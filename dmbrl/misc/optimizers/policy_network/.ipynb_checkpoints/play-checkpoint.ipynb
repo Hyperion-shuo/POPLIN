{
 "cells": [
  {
   "cell_type": "code",
   "execution_count": 27,
   "metadata": {},
   "outputs": [],
   "source": [
    "import tensorflow as tf\n",
    "import numpy as np\n",
    "\n",
    "\n",
    "# import os\n",
    "# import sys \n",
    "# module_path = os.path.abspath(os.path.join('..'))\n",
    "# print(\"../abspath is \\n\",module_path)\n",
    "# module_path = os.getcwd()\n",
    "# print(\"current work dir is \\n\",module_path)\n",
    "# if module_path not in sys.path:\n",
    "#     sys.path.append(module_path)\n",
    "\n",
    "# print(\"sys.path is\\n\",sys.path)\n",
    "\n",
    "\n",
    "# previous tf.networks use relative import\n",
    "# in jupyter can not find parent path\n",
    "from tf_networks import MLP\n"
   ]
  },
  {
   "cell_type": "markdown",
   "metadata": {},
   "source": [
    "# tf_network"
   ]
  },
  {
   "cell_type": "code",
   "execution_count": 25,
   "metadata": {},
   "outputs": [],
   "source": [
    "x = tf.reshape(tf.range(0,12,1), (2,2,3))\n",
    "with tf.Session():\n",
    "    tf.global_variables_initializer()"
   ]
  },
  {
   "cell_type": "markdown",
   "metadata": {},
   "source": [
    " visualize each layer in MLP to see how it is consturct"
   ]
  },
  {
   "cell_type": "code",
   "execution_count": 48,
   "metadata": {},
   "outputs": [],
   "source": [
    "init_data_dict={\"w_init_method\": \"xavier\", \"w_init_para\":{\"uniform\": 0.1} , \n",
    "        \"b_init_method\":\"constant\", \"b_init_para\":{\"val\":0.1}}\n",
    "init_data = [init_data_dict] * 2\n",
    "\n",
    "# create a MLP\n",
    "mlp = MLP(dims=[4, 4, 1], scope='v', train=True,\n",
    "          activation_type=\"relu\", normalizer_type='none', init_data=init_data)"
   ]
  },
  {
   "cell_type": "code",
   "execution_count": 50,
   "metadata": {},
   "outputs": [
    {
     "name": "stdout",
     "output_type": "stream",
     "text": [
      "variable_list 0 -0.22054726\n",
      "variable_list 1 -0.24741824\n",
      "variable_list 2 0.1\n",
      "variable_list 3 0.1\n"
     ]
    }
   ],
   "source": [
    "# see each weight\n",
    "with tf.Session() as sess:\n",
    "    sess.run(tf.global_variables_initializer())\n",
    "    variable_list = mlp.get_variable_list()\n",
    "    for i in range(len(variable_list)):\n",
    "        print(\"variable_list {}\".format(i), variable_list[i].eval().mean())"
   ]
  },
  {
   "cell_type": "markdown",
   "metadata": {},
   "source": [
    "## base_plicy"
   ]
  },
  {
   "cell_type": "markdown",
   "metadata": {},
   "source": [
    "see how function optimize weight constuct train_set"
   ]
  },
  {
   "cell_type": "code",
   "execution_count": 55,
   "metadata": {},
   "outputs": [],
   "source": [
    "data_dict = {}\n",
    "data_dict[\"state\"] = np.arange(24).reshape(4,6).tolist()\n",
    "assert len(data_dict['state']) == 4\n",
    "assert len(data_dict['state'][0]) == 6\n",
    "\n",
    "npr = np.random.RandomState(args.seed)"
   ]
  },
  {
   "cell_type": "code",
   "execution_count": 57,
   "metadata": {},
   "outputs": [
    {
     "ename": "TypeError",
     "evalue": "only integer scalar arrays can be converted to a scalar index",
     "output_type": "error",
     "traceback": [
      "\u001b[0;31m---------------------------------------------------------------------------\u001b[0m",
      "\u001b[0;31mTypeError\u001b[0m                                 Traceback (most recent call last)",
      "\u001b[0;32m<ipython-input-57-fbfea9de250f>\u001b[0m in \u001b[0;36m<module>\u001b[0;34m\u001b[0m\n\u001b[1;32m      1\u001b[0m \u001b[0mtest_set_id\u001b[0m \u001b[0;34m=\u001b[0m \u001b[0mnp\u001b[0m\u001b[0;34m.\u001b[0m\u001b[0marange\u001b[0m\u001b[0;34m(\u001b[0m\u001b[0;36m4\u001b[0m\u001b[0;34m)\u001b[0m\u001b[0;34m\u001b[0m\u001b[0;34m\u001b[0m\u001b[0m\n\u001b[0;32m----> 2\u001b[0;31m \u001b[0mtest_set\u001b[0m \u001b[0;34m=\u001b[0m \u001b[0;34m{\u001b[0m\u001b[0;34m'state'\u001b[0m\u001b[0;34m:\u001b[0m \u001b[0mdata_dict\u001b[0m\u001b[0;34m[\u001b[0m\u001b[0;34m'state'\u001b[0m\u001b[0;34m]\u001b[0m\u001b[0;34m[\u001b[0m\u001b[0mtest_set_id\u001b[0m\u001b[0;34m]\u001b[0m\u001b[0;34m[\u001b[0m\u001b[0;34m:\u001b[0m\u001b[0;36m6\u001b[0m\u001b[0;34m]\u001b[0m\u001b[0;34m}\u001b[0m\u001b[0;34m\u001b[0m\u001b[0;34m\u001b[0m\u001b[0m\n\u001b[0m\u001b[1;32m      3\u001b[0m \u001b[0mprint\u001b[0m\u001b[0;34m(\u001b[0m\u001b[0mtest_set\u001b[0m\u001b[0;34m)\u001b[0m\u001b[0;34m\u001b[0m\u001b[0;34m\u001b[0m\u001b[0m\n",
      "\u001b[0;31mTypeError\u001b[0m: only integer scalar arrays can be converted to a scalar index"
     ]
    }
   ],
   "source": [
    "test_set_id = np.arange(4)\n",
    "\n",
    "npr.shuffle(test_set_id)\n",
    "test_set = {'state': data_dict['state'][test_set_id][:6]}\n",
    "print(test_set)"
   ]
  },
  {
   "cell_type": "code",
   "execution_count": null,
   "metadata": {},
   "outputs": [],
   "source": []
  }
 ],
 "metadata": {
  "kernelspec": {
   "display_name": "Python 3.6.12 64-bit ('pets2': conda)",
   "language": "python",
   "name": "python361264bitpets2conda9be0b50ec2e74c71906ed808ba84e5ad"
  },
  "language_info": {
   "codemirror_mode": {
    "name": "ipython",
    "version": 3
   },
   "file_extension": ".py",
   "mimetype": "text/x-python",
   "name": "python",
   "nbconvert_exporter": "python",
   "pygments_lexer": "ipython3",
   "version": "3.6.12"
  }
 },
 "nbformat": 4,
 "nbformat_minor": 4
}
