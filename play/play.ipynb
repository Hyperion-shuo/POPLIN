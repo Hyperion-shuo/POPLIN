{
 "cells": [
  {
   "cell_type": "code",
   "execution_count": 3,
   "metadata": {},
   "outputs": [],
   "source": [
    "import tensorflow as tf\n",
    "import numpy as np"
   ]
  },
  {
   "cell_type": "code",
   "execution_count": 4,
   "metadata": {},
   "outputs": [],
   "source": [
    "tf.compat.v1.enable_eager_execution(\n",
    "    config=None, device_policy=None, execution_mode=None\n",
    ")"
   ]
  },
  {
   "cell_type": "code",
   "execution_count": 13,
   "metadata": {},
   "outputs": [],
   "source": [
    "tf.compat.v1.disable_eager_execution()"
   ]
  },
  {
   "cell_type": "markdown",
   "metadata": {},
   "source": [
    "# tf_utils \n",
    "## SetFromFlat functon"
   ]
  },
  {
   "cell_type": "code",
   "execution_count": 5,
   "metadata": {},
   "outputs": [
    {
     "output_type": "stream",
     "name": "stdout",
     "text": [
      "<tf.Variable 'Variable:0' shape=(6,) dtype=int32, numpy=array([0, 1, 2, 3, 4, 5], dtype=int32)> <tf.Variable 'Variable:0' shape=(2, 2) dtype=int32, numpy=\narray([[0, 1],\n       [2, 3]], dtype=int32)>\n"
     ]
    }
   ],
   "source": [
    "a = tf.Variable([0,1,2,3,4,5])\n",
    "b = tf.Variable([[9,9],[9,9]])\n",
    "\n",
    "# print(tf.reshape(a[:4], (2,2)).shape)\n",
    "tf.assign(b, tf.reshape(a[:4], (2,2)))\n",
    "# with tf.Session() as session:\n",
    "#     session.run(op)\n",
    "print(a, b)"
   ]
  }
 ],
 "metadata": {
  "kernelspec": {
   "display_name": "Python 3.6.12 64-bit ('pets2': conda)",
   "language": "python",
   "name": "python361264bitpets2conda9be0b50ec2e74c71906ed808ba84e5ad"
  },
  "language_info": {
   "codemirror_mode": {
    "name": "ipython",
    "version": 3
   },
   "file_extension": ".py",
   "mimetype": "text/x-python",
   "name": "python",
   "nbconvert_exporter": "python",
   "pygments_lexer": "ipython3",
   "version": "3.6.12-final"
  }
 },
 "nbformat": 4,
 "nbformat_minor": 4
}